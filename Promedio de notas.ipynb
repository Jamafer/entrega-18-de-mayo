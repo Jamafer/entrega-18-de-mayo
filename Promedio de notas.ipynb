{
  "nbformat": 4,
  "nbformat_minor": 0,
  "metadata": {
    "colab": {
      "provenance": []
    },
    "kernelspec": {
      "name": "python3",
      "display_name": "Python 3"
    },
    "language_info": {
      "name": "python"
    }
  },
  "cells": [
    {
      "cell_type": "code",
      "execution_count": 1,
      "metadata": {
        "colab": {
          "base_uri": "https://localhost:8080/"
        },
        "id": "WLFcoW9dYub8",
        "outputId": "1df6106c-39dd-4ae1-9f38-bc763616d1f4"
      },
      "outputs": [
        {
          "output_type": "stream",
          "name": "stdout",
          "text": [
            "Ingrese las calificaciones separadas por comas: 7, 2, 4, 5, 7, 9, 12,  11\n",
            "Advertencia: nota 12.0 fuera de rango (0–10); se omite.\n",
            "Advertencia: nota 11.0 fuera de rango (0–10); se omite.\n",
            "\n",
            "Se procesaron 6 calificaciones válidas.\n",
            "Promedio: 5.67\n"
          ]
        }
      ],
      "source": [
        "def calcular_promedio_desde_entrada():\n",
        "    \"\"\"\n",
        "    Pide al usuario una línea de calificaciones separadas por comas,\n",
        "    las valida, y calcula el promedio de las notas válidas.\n",
        "    \"\"\"\n",
        "    entrada = input(\"Ingrese las calificaciones separadas por comas: \")\n",
        "    # Dividimos la cadena en subcadenas\n",
        "    lista_str = entrada.split(\",\")\n",
        "\n",
        "    suma_notas = 0.0\n",
        "    contador = 0\n",
        "\n",
        "    for item in lista_str:\n",
        "        texto = item.strip()  # Quitamos espacios extras\n",
        "        if texto == \"\":\n",
        "            # Si el usuario puso dos comas seguidas o espacios, lo saltamos\n",
        "            print(\"Aviso: elemento vacío detectado; se omite.\")\n",
        "            continue\n",
        "        try:\n",
        "            nota = float(texto)\n",
        "        except ValueError:\n",
        "            print(f\"Advertencia: '{texto}' no es una nota válida; se omite.\")\n",
        "            continue\n",
        "\n",
        "        # Validación de rango\n",
        "        if nota < 0 or nota > 10:\n",
        "            print(f\"Advertencia: nota {nota} fuera de rango (0–10); se omite.\")\n",
        "            continue\n",
        "\n",
        "        # Acumular para el promedio\n",
        "        suma_notas += nota\n",
        "        contador += 1\n",
        "\n",
        "    # Cálculo final del promedio\n",
        "    if contador > 0:\n",
        "        promedio = suma_notas / contador\n",
        "        print(f\"\\nSe procesaron {contador} calificaciones válidas.\")\n",
        "        print(f\"Promedio: {promedio:.2f}\")\n",
        "    else:\n",
        "        print(\"\\nNo se ingresaron calificaciones válidas.\")\n",
        "\n",
        "if __name__ == \"__main__\":\n",
        "    calcular_promedio_desde_entrada()\n"
      ]
    }
  ]
}