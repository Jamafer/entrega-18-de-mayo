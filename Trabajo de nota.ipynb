{
  "nbformat": 4,
  "nbformat_minor": 0,
  "metadata": {
    "colab": {
      "provenance": []
    },
    "kernelspec": {
      "name": "python3",
      "display_name": "Python 3"
    },
    "language_info": {
      "name": "python"
    }
  },
  "cells": [
    {
      "cell_type": "code",
      "execution_count": 4,
      "metadata": {
        "colab": {
          "base_uri": "https://localhost:8080/"
        },
        "id": "9nX2SOQVV7NM",
        "outputId": "663d22d1-66de-48b6-bb22-8486609ee5e3"
      },
      "outputs": [
        {
          "output_type": "stream",
          "name": "stdout",
          "text": [
            "Advertencia: 'A' no es un número. Se omite.\n",
            "Advertencia: nota 12 fuera de rango (0-10). Se omite.\n",
            "Total aprobados: 5\n",
            "Total reprobados: 3\n"
          ]
        }
      ],
      "source": [
        "def contar_aprobados(calificaciones):\n",
        "    \"\"\"\n",
        "    Cuenta cuántas calificaciones son aprobadas (>=7)\n",
        "    y cuántas son reprobadas (<7).\n",
        "\n",
        "    Parámetros:\n",
        "        calificaciones (list of int): lista de notas de los estudiantes.\n",
        "\n",
        "    Retorna:\n",
        "        tuple: (num_aprobados, num_reprobados)\n",
        "    \"\"\"\n",
        "    aprobados = 0\n",
        "    reprobados = 0\n",
        "\n",
        "    for nota in calificaciones:\n",
        "        # Validación opcional: asegurarse de que la nota sea un entero válido\n",
        "        if not isinstance(nota, (int, float)):\n",
        "            print(f\"Advertencia: '{nota}' no es un número. Se omite.\")\n",
        "            continue\n",
        "        if nota < 0 or nota > 10:\n",
        "            print(f\"Advertencia: nota {nota} fuera de rango (0-10). Se omite.\")\n",
        "            continue\n",
        "\n",
        "        # Condicional principal\n",
        "        if nota >= 7:\n",
        "            aprobados += 1\n",
        "        else:\n",
        "            reprobados += 1\n",
        "\n",
        "    return aprobados, reprobados\n",
        "\n",
        "if __name__ == \"__main__\":\n",
        "    lista_notas = [8, 5, 7, 6, 10, 3, 9, 7, \"A\", 12]\n",
        "    aprobados, reprobados = contar_aprobados(lista_notas)\n",
        "    print(f\"Total aprobados: {aprobados}\")\n",
        "    print(f\"Total reprobados: {reprobados}\")\n"
      ]
    }
  ]
}